{
 "cells": [
  {
   "cell_type": "code",
   "execution_count": 3,
   "id": "bc453407-27d0-45e9-a393-10faa38fe11d",
   "metadata": {
    "tags": []
   },
   "outputs": [
    {
     "name": "stdout",
     "output_type": "stream",
     "text": [
      "Promedio: 9.0\n"
     ]
    }
   ],
   "source": [
    "def calcular_promedio(lista):\n",
    "    \"\"\"\n",
    "    Calcula el promedio de una lista de números.\n",
    "    \n",
    "    Parámetros:\n",
    "    lista (list): La lista de números de la cual calcular el promedio.\n",
    "    \n",
    "    Retorna:\n",
    "    float: El promedio de los números en la lista.\n",
    "    \"\"\"\n",
    "    if len(lista) == 0:\n",
    "        return 0\n",
    "    return sum(lista) / len(lista)\n",
    "\n",
    "# Ejemplo de uso\n",
    "numeros = [8, 10, 8, 9, 10]\n",
    "promedio = calcular_promedio(numeros)\n",
    "print(\"Promedio:\", promedio)"
   ]
  },
  {
   "cell_type": "code",
   "execution_count": 1,
   "id": "f9e596fc-c18d-46c3-8f62-0307f178fcf4",
   "metadata": {
    "tags": []
   },
   "outputs": [
    {
     "name": "stdout",
     "output_type": "stream",
     "text": [
      "Cantidad de palabras: 17\n"
     ]
    }
   ],
   "source": [
    "def contar_palabras(texto):\n",
    "    \"\"\"\n",
    "    Cuenta la cantidad de palabras en un texto dado.\n",
    "    \n",
    "    Parámetros:\n",
    "    texto (str): El texto del cual contar las palabras.\n",
    "    \n",
    "    Retorna:\n",
    "    int: La cantidad de palabras en el texto.\n",
    "    \"\"\"\n",
    "    palabras = texto.split()\n",
    "    return len(palabras)\n",
    "\n",
    "texto = \"\"\"conjunto de instrucciones que realizan una tarea específica y pueden\n",
    "ser reutilizadas en diferentes partes del programa.\"\"\"\n",
    "cantidad_palabras = contar_palabras(texto)\n",
    "print(\"Cantidad de palabras:\", cantidad_palabras)"
   ]
  },
  {
   "cell_type": "code",
   "execution_count": 2,
   "id": "fa8b3bd4-1448-46e2-92f9-3e3d2c395fcd",
   "metadata": {},
   "outputs": [],
   "source": [
    "def buscar_palabra(texto, palabra):\n",
    "    \"\"\"\n",
    "    Busca una palabra en un texto dado y retorna True si la palabra está presente, False en caso contrario.\n",
    "    \n",
    "    Parámetros:\n",
    "    texto (str): El texto en el cual buscar la palabra.\n",
    "    palabra (str): La palabra que se desea buscar.\n",
    "    \n",
    "    Retorna:\n",
    "    bool: True si la palabra está presente en el texto, False en caso contrario.\n",
    "    \"\"\"\n",
    "    palabras = texto.split()\n",
    "    return palabra in palabras"
   ]
  },
  {
   "cell_type": "code",
   "execution_count": 3,
   "id": "3b70d1e3-6a0e-4179-9a65-81a4ea68d003",
   "metadata": {
    "tags": []
   },
   "outputs": [
    {
     "name": "stdout",
     "output_type": "stream",
     "text": [
      "¿La palabra está presente? False\n"
     ]
    }
   ],
   "source": [
    "texto = \"Paradigma de programación que se basa en la creación de objetos, los cuales tienen propiedades y métodos asociados. Permite encapsular datos y comportamientos en un objeto, lo que facilita la organización y el mantenimiento del código..\"\n",
    "palabra = \"Código\"\n",
    "esta_presente = buscar_palabra(texto, palabra)\n",
    "print(\"¿La palabra está presente?\", esta_presente)"
   ]
  },
  {
   "cell_type": "code",
   "execution_count": 4,
   "id": "c38e42ff-4a2a-40d8-93b8-275ee8a71d16",
   "metadata": {
    "tags": []
   },
   "outputs": [],
   "source": [
    "def eliminar_duplicados(lista):\n",
    "    \"\"\"\n",
    "    Elimina los elementos duplicados de una lista y devuelve una nueva lista sin duplicados.\n",
    "    \n",
    "    Parámetros:\n",
    "    lista (list): La lista de la cual eliminar los duplicados.\n",
    "    \n",
    "    Retorna:\n",
    "    list: Una lista sin elementos duplicados.\n",
    "    \"\"\"\n",
    "    return list(set(lista))"
   ]
  },
  {
   "cell_type": "code",
   "execution_count": 5,
   "id": "02e3d438-d713-435d-bc60-d57c8013f129",
   "metadata": {
    "tags": []
   },
   "outputs": [
    {
     "name": "stdout",
     "output_type": "stream",
     "text": [
      "Lista sin duplicados: [33, 34, 6, 8, 22, 55]\n"
     ]
    }
   ],
   "source": [
    "lista = [55, 22, 34, 8, 33, 8, 33, 6]\n",
    "lista_sin_duplicados = eliminar_duplicados(lista)\n",
    "print(\"Lista sin duplicados:\", lista_sin_duplicados)"
   ]
  },
  {
   "cell_type": "code",
   "execution_count": 6,
   "id": "a1b4bc60-1d2e-4c08-8432-4cc6eb0191fd",
   "metadata": {
    "tags": []
   },
   "outputs": [],
   "source": [
    "def ordenar_ascendente(lista):\n",
    "    \"\"\"\n",
    "    Ordena una lista de números de forma ascendente.\n",
    "    \n",
    "    Parámetros:\n",
    "    lista (list): La lista de números a ordenar.\n",
    "    \n",
    "    Retorna:\n",
    "    list: La lista ordenada de forma ascendente.\n",
    "    \"\"\"\n",
    "    return sorted(lista)"
   ]
  },
  {
   "cell_type": "code",
   "execution_count": 57,
   "id": "aae5f1ef-6d28-4c63-b531-d62a1718ff35",
   "metadata": {
    "tags": []
   },
   "outputs": [
    {
     "name": "stdout",
     "output_type": "stream",
     "text": [
      "Números ordenados de forma ascendente: [0, 0.01, 1, 3, 3.0, 3.5, 8, 9, 18, 22, 59, 220, 659]\n"
     ]
    }
   ],
   "source": [
    "numeros = [18, 22, 8, 1, 9, 3, 3.0, 3.5, 220, 659, 59, 0, 0.01]\n",
    "numeros_ordenados = ordenar_ascendente(numeros)\n",
    "print(\"Números ordenados de forma ascendente:\", numeros_ordenados)"
   ]
  },
  {
   "cell_type": "code",
   "execution_count": 51,
   "id": "df9251c2-9384-4908-9817-e51b51d349bb",
   "metadata": {
    "tags": []
   },
   "outputs": [],
   "source": [
    "def filtrar_productos(productos, categoria):\n",
    "    \"\"\"\n",
    "    Filtra una lista de productos por categoría y devuelve una nueva lista con los productos de la categoría especificada.\n",
    "    \n",
    "    Parámetros:\n",
    "    productos (dict): Un diccionario de productos donde las claves son los nombres de los productos y los valores son las categorías.\n",
    "    categoria (str): La categoría por la cual filtrar los productos.\n",
    "    \n",
    "    Retorna:\n",
    "    list: Una lista de productos de la categoría especificada.\n",
    "    \"\"\"\n",
    "    return [producto for producto, cat in productos.items() if cat == categoria]\n"
   ]
  },
  {
   "cell_type": "code",
   "execution_count": 52,
   "id": "dc4f6ea8-f6b6-460f-8a02-44145f74a233",
   "metadata": {
    "tags": []
   },
   "outputs": [
    {
     "name": "stdout",
     "output_type": "stream",
     "text": [
      "Productos filtrados: ['Laptop', 'Teléfono', 'Ornedador']\n"
     ]
    }
   ],
   "source": [
    "productos = {\n",
    "    \"Laptop\": \"Electrónicos\",\n",
    "    \"Escritorio\": \"Mobiliario\",\n",
    "    \"Teléfono\": \"Electrónicos\",\n",
    "    \"Hojas\": \"Papelería\",\n",
    "    \"Carpetas\": \"Papelería\",\n",
    "    \"Ornedador\": \"Electrónicos\", \n",
    "}\n",
    "productos_filtrados = filtrar_productos(productos, \"Electrónicos\")\n",
    "print(\"Productos filtrados:\", productos_filtrados)"
   ]
  },
  {
   "cell_type": "code",
   "execution_count": 53,
   "id": "13db12f5-203a-4a66-bc95-cd8a0abe5f0e",
   "metadata": {},
   "outputs": [],
   "source": [
    "def unir_listas_unicas(*listas):\n",
    "    \"\"\"\n",
    "    Combina múltiples listas y devuelve una lista que contiene todos los elementos únicos.\n",
    "    \n",
    "    Parámetros:\n",
    "    *listas: Una serie de listas.\n",
    "    \n",
    "    Retorna:\n",
    "    list: Una lista que contiene todos los elementos únicos de las listas dadas.\n",
    "    \"\"\"\n",
    "    lista_unica = []\n",
    "    for lista in listas:\n",
    "        lista_unica.extend(lista)\n",
    "    return list(set(lista_unica))"
   ]
  },
  {
   "cell_type": "code",
   "execution_count": 54,
   "id": "4119e343-53e5-4fac-abb2-d901afa18b16",
   "metadata": {
    "tags": []
   },
   "outputs": [
    {
     "name": "stdout",
     "output_type": "stream",
     "text": [
      "Lista única: [1.5, 2.5, 2.2, 1, 5, 2.9, 7, 8, 9.9, 10, 10.11, 9, 45]\n"
     ]
    }
   ],
   "source": [
    "lista1 = [1.5, 2.5, 2.2, 45, 5]\n",
    "lista2 = [1, 10, 10.11, 7, 8]\n",
    "lista3 = [2.9, 9.9, 9, 10]\n",
    "lista_unica = unir_listas_unicas(lista1, lista2, lista3)\n",
    "print(\"Lista única:\", lista_unica)"
   ]
  },
  {
   "cell_type": "code",
   "execution_count": 55,
   "id": "89fdebfa-dc7e-479b-b825-9293408ca483",
   "metadata": {
    "tags": []
   },
   "outputs": [],
   "source": [
    "def filtrar_datos(datos, criterio):\n",
    "    \"\"\"\n",
    "    Filtra un diccionario de datos según un criterio específico.\n",
    "    \n",
    "    Parámetros:\n",
    "    datos (dict): El diccionario de datos que se desea filtrar.\n",
    "    criterio (str): El criterio para filtrar los datos.\n",
    "    \n",
    "    Retorna:\n",
    "    dict: Un diccionario con los datos filtrados.\n",
    "    \"\"\"\n",
    "    return {key: value for key, value in datos.items() if criterio in key}"
   ]
  },
  {
   "cell_type": "code",
   "execution_count": 24,
   "id": "3ebdd568-fbe7-403e-9178-978f9187611f",
   "metadata": {
    "tags": []
   },
   "outputs": [],
   "source": [
    "def analizar_texto(texto):\n",
    "    \"\"\"\n",
    "    Analiza un texto dado y cuenta la frecuencia de cada palabra.\n",
    "    \n",
    "    Parámetros:\n",
    "    texto (str): El texto que se desea analizar.\n",
    "    \n",
    "    Retorna:\n",
    "    dict: Un diccionario donde las claves son las palabras y los valores son las frecuencias.\n",
    "    \"\"\"\n",
    "    palabras = texto.split()\n",
    "    frecuencias = {}\n",
    "    for palabra in palabras:\n",
    "        frecuencias[palabra] = frecuencias.get(palabra, 0) + 1\n",
    "    return frecuencias"
   ]
  },
  {
   "cell_type": "code",
   "execution_count": 25,
   "id": "7d321948-b4bd-4fc8-9596-67cb64a70c2b",
   "metadata": {
    "tags": []
   },
   "outputs": [
    {
     "name": "stdout",
     "output_type": "stream",
     "text": [
      "Frecuencia de palabras: {'Conjunto': 1, 'de': 2, 'instrucciones': 1, 'que': 2, 'se': 2, 'escriben': 1, 'en': 2, 'un': 2, 'lenguaje': 1, 'programación': 1, 'y': 1, 'utilizan': 1, 'para': 1, 'realizar': 1, 'una': 1, 'tarea': 1, 'específica': 1, 'ordenador': 1, 'o': 1, 'dispositivo': 1, 'electrónico.': 1}\n"
     ]
    }
   ],
   "source": [
    "texto = \"Conjunto de instrucciones que se escriben en un lenguaje de programación y que se utilizan para realizar una tarea específica en un ordenador o dispositivo electrónico.\"\n",
    "frecuencias = analizar_texto(texto)\n",
    "print(\"Frecuencia de palabras:\", frecuencias)"
   ]
  },
  {
   "cell_type": "code",
   "execution_count": 32,
   "id": "3b0838d4-6507-4327-87fa-f7302e785180",
   "metadata": {
    "tags": []
   },
   "outputs": [],
   "source": [
    "import string\n",
    "\n",
    "def analizar_texto(texto, ignorar_puntuacion=True, eliminar_palabras_vacias=True):\n",
    "    \"\"\"\n",
    "    Analiza un texto dado y cuenta la frecuencia de cada palabra.\n",
    "\n",
    "    Parámetros:\n",
    "    texto (str): El texto que se desea analizar.\n",
    "    ignorar_puntuacion (bool): Indica si se deben ignorar los signos de puntuación.\n",
    "    eliminar_palabras_vacias (bool): Indica si se deben eliminar las palabras vacías.\n",
    "\n",
    "    Retorna:\n",
    "    dict: Un diccionario donde las claves son las palabras y los valores son las frecuencias.\n",
    "    \"\"\"\n",
    "    if ignorar_puntuacion:\n",
    "        texto = texto.translate(str.maketrans('', '', string.punctuation))\n",
    "    palabras = texto.split()\n",
    "\n",
    "    palabras_vacias = set([\"el\", \"la\", \"de\", \"a\", \"que\", \"y\", \"en\", \"un\", \"una\", \"con\", \"por\", \"para\"])\n",
    "\n",
    "    if eliminar_palabras_vacias:\n",
    "        palabras = [palabra for palabra in palabras if palabra.lower() not in palabras_vacias]\n",
    "\n",
    "    frecuencias = {}\n",
    "    for palabra in palabras:\n",
    "        frecuencias[palabra] = frecuencias.get(palabra, 0) + 1\n",
    "\n",
    "    return frecuencias"
   ]
  },
  {
   "cell_type": "code",
   "execution_count": 33,
   "id": "c4774856-f3c3-4209-8ecb-806d1e5f9e0b",
   "metadata": {
    "tags": []
   },
   "outputs": [
    {
     "name": "stdout",
     "output_type": "stream",
     "text": [
      "{'Conjunto': 1, 'instrucciones': 1, 'se': 2, 'escriben': 1, 'lenguaje': 1, 'programación': 1, 'utilizan': 1, 'realizar': 1, 'tarea': 1, 'específica': 1, 'ordenador': 1, 'o': 1, 'dispositivo': 1, 'electrónico': 1}\n"
     ]
    }
   ],
   "source": [
    "texto = \"Conjunto de instrucciones que se escriben en un lenguaje de programación y que se utilizan para realizar una tarea específica en un ordenador o dispositivo electrónico.\"\n",
    "resultado = analizar_texto(texto, eliminar_palabras_vacias=True)\n",
    "print(resultado)"
   ]
  },
  {
   "cell_type": "code",
   "execution_count": 34,
   "id": "1753c32c-c17e-43fa-9c7a-78d65d9d818c",
   "metadata": {
    "tags": []
   },
   "outputs": [],
   "source": [
    "def contar_digitos(numero):\n",
    "    \"\"\"\n",
    "    Cuenta la cantidad de dígitos en un número entero.\n",
    "    \n",
    "    Parámetros:\n",
    "    numero (int): El número del cual contar los dígitos.\n",
    "    \n",
    "    Retorna:\n",
    "    int: La cantidad de dígitos en el número.\n",
    "    \"\"\"\n",
    "    return len(str(abs(numero)))"
   ]
  },
  {
   "cell_type": "code",
   "execution_count": 35,
   "id": "89250522-dd6a-4b25-9e00-04356eb6e1ea",
   "metadata": {
    "tags": []
   },
   "outputs": [
    {
     "name": "stdout",
     "output_type": "stream",
     "text": [
      "Cantidad de dígitos: 8\n"
     ]
    }
   ],
   "source": [
    "numero = 24760125\n",
    "cantidad_digitos = contar_digitos(numero)\n",
    "print(\"Cantidad de dígitos:\", cantidad_digitos)"
   ]
  },
  {
   "cell_type": "code",
   "execution_count": 36,
   "id": "f1c19b25-bc9b-453a-8085-2579c996df3f",
   "metadata": {
    "tags": []
   },
   "outputs": [],
   "source": [
    "def frecuencia_palabras_clave(texto, palabras_clave):\n",
    "    \"\"\"\n",
    "    Calcula la frecuencia de palabras clave específicas en un texto dado.\n",
    "    \n",
    "    Parámetros:\n",
    "    texto (str): El texto que se desea analizar.\n",
    "    palabras_clave (list): Lista de palabras clave para buscar en el texto.\n",
    "    \n",
    "    Retorna:\n",
    "    dict: Un diccionario donde las claves son las palabras clave y los valores son las frecuencias.\n",
    "    \"\"\"\n",
    "    frecuencias = {}\n",
    "    for palabra_clave in palabras_clave:\n",
    "        frecuencias[palabra_clave] = texto.lower().count(palabra_clave.lower())\n",
    "    return frecuencias"
   ]
  },
  {
   "cell_type": "code",
   "execution_count": 39,
   "id": "5c882f2e-6aec-4c7c-8fa1-48df22e25d44",
   "metadata": {
    "tags": []
   },
   "outputs": [
    {
     "name": "stdout",
     "output_type": "stream",
     "text": [
      "{'código': 3, 'funciones': 2, 'programa': 1, 'lenguaje': 0}\n"
     ]
    }
   ],
   "source": [
    "texto = \"Una función es un bloque de código que se ejecuta cuando es llamada. En Python las funciones se crean mediante la palabra reservada “def”, con la cual definimos la función. Las funciones existen para evitar tener que repetir código a lo largo de todo un programa, además también poder encapsular partes y que el código final sea mucho más legible.\"\n",
    "palabras_clave = [\"código\", \"funciones\", \"programa\", \"lenguaje\"]\n",
    "resultado = frecuencia_palabras_clave(texto, palabras_clave)\n",
    "print(resultado)"
   ]
  },
  {
   "cell_type": "code",
   "execution_count": 58,
   "id": "1604a933-d3bf-4201-a60c-aed63e9eda00",
   "metadata": {
    "tags": []
   },
   "outputs": [],
   "source": [
    "import re\n",
    "\n",
    "def extraer_correos(texto):\n",
    "    \"\"\"\n",
    "    Extrae todos los correos electrónicos presentes en un texto dado.\n",
    "    \n",
    "    Parámetros:\n",
    "    texto (str): El texto que se desea analizar.\n",
    "    \n",
    "    Retorna:\n",
    "    list: Lista de correos electrónicos encontrados en el texto.\n",
    "    \"\"\"\n",
    "    return re.findall(r'\\b[A-Za-z0-9._%+-]+@[A-Za-z0-9.-]+\\.[A-Z|a-z]{2,}\\b', texto)"
   ]
  },
  {
   "cell_type": "code",
   "execution_count": 42,
   "id": "72f6adfa-02c7-476e-8eb1-dcf505cf11c1",
   "metadata": {
    "tags": []
   },
   "outputs": [
    {
     "name": "stdout",
     "output_type": "stream",
     "text": [
      "Correos electrónicos encontrados: ['vic@gmail.com', 'vic2@gmail.com', 'vi@gm.com']\n"
     ]
    }
   ],
   "source": [
    "texto = \"Con copia a vic@gmail.com vic2@gmail.com vi@gm.com.\"\n",
    "correos_encontrados = extraer_correos(texto)\n",
    "print(\"Correos electrónicos encontrados:\", correos_encontrados)"
   ]
  },
  {
   "cell_type": "code",
   "execution_count": 43,
   "id": "d2164ff6-6c8c-42ad-8042-1d7d3f8f5b74",
   "metadata": {
    "tags": []
   },
   "outputs": [],
   "source": [
    "from sklearn.feature_extraction.text import CountVectorizer\n",
    "\n",
    "def extraer_temas(comentarios, n_temas=5):\n",
    "    \"\"\"\n",
    "    Extrae los temas principales de una lista de reseñas de clientes.\n",
    "    \n",
    "    Parámetros:\n",
    "    comentarios (list): Lista de reseñas de clientes.\n",
    "    n_temas (int): Número de temas principales a extraer.\n",
    "    \n",
    "    Retorna:\n",
    "    list: Lista de los temas principales.\n",
    "    \"\"\"\n",
    "    vectorizador = CountVectorizer(max_features=1000, stop_words='english')\n",
    "    matriz_documentos = vectorizador.fit_transform(comentarios)\n",
    "    nombres_palabras = vectorizador.get_feature_names_out()\n",
    "    palabras_comunes = matriz_documentos.sum(axis=0)\n",
    "    temas_principales = [nombres_palabras[i] for i in palabras_comunes.argsort()[0, -n_temas:]]\n",
    "    return temas_principales"
   ]
  },
  {
   "cell_type": "code",
   "execution_count": 47,
   "id": "2635bac4-31ac-416c-935a-9a602f873fcc",
   "metadata": {
    "tags": []
   },
   "outputs": [
    {
     "name": "stdout",
     "output_type": "stream",
     "text": [
      "Temas principales en comentarios de clientes: [array([['que', 'el', 'en', 'los', 'airpods']], dtype=object)]\n"
     ]
    }
   ],
   "source": [
    "comentarios_clientes = [\n",
    "    \"Los auriculares inalámbricos Apple AirPods (segunda generación) son un producto muy recomendable para cualquiera que quiera un auricular inalámbrico que funcione perfectamente con el iPhone.\",\n",
    "    \"Utilizo los AirPods de Apple para escuchar podcasts y música en cualquier momento y no quiero que mis hábitos de escucha infrinjan el espacio de los demás.\",\n",
    "    \"La batería no es la mejor, pero al ser una versión anterior, lo esperaba.\",\n",
    "    \"Este es mi segundo par de AirPods. En ambas ocasiones, empezaron a no funcionar justo después de un año.\",\n",
    "    \"He comprado dos pares de estos AirPods y ambos tienen un fallo en el micrófono después de aproximadamente un año o menos.\"\n",
    "]\n",
    "temas_principales = extraer_temas(comentarios_clientes, n_temas=5)\n",
    "print(\"Temas principales en comentarios de clientes:\", temas_principales)"
   ]
  }
 ],
 "metadata": {
  "kernelspec": {
   "display_name": "Python 3 (ipykernel)",
   "language": "python",
   "name": "python3"
  },
  "language_info": {
   "codemirror_mode": {
    "name": "ipython",
    "version": 3
   },
   "file_extension": ".py",
   "mimetype": "text/x-python",
   "name": "python",
   "nbconvert_exporter": "python",
   "pygments_lexer": "ipython3",
   "version": "3.11.5"
  }
 },
 "nbformat": 4,
 "nbformat_minor": 5
}
